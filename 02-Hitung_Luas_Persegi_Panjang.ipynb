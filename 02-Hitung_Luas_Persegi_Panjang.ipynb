{
 "cells": [
  {
   "cell_type": "code",
   "execution_count": 1,
   "id": "c08f35a1",
   "metadata": {},
   "outputs": [
    {
     "name": "stdout",
     "output_type": "stream",
     "text": [
      "=====Program menghitung luas persegi panjang=====\n",
      "\n",
      "Inputkan nilai panjang : 4\n",
      "Inputkan nilai lebar   : 4\n",
      "\n",
      "Luas dari persegi panjang adalah: 16 satuan luas\n",
      "\n",
      "=================================================\n"
     ]
    }
   ],
   "source": [
    "p: int\n",
    "l: int\n",
    "L: int\n",
    "\n",
    "print(\"=====Program menghitung luas persegi panjang=====\\n\")\n",
    "p= int(input(\"Inputkan nilai panjang : \"))\n",
    "l= int(input(\"Inputkan nilai lebar   : \"))\n",
    "\n",
    "L = p * l\n",
    "\n",
    "print(\"\\nLuas dari persegi panjang adalah:\", L, \"satuan luas\\n\")\n",
    "print(\"=================================================\")"
   ]
  },
  {
   "cell_type": "code",
   "execution_count": null,
   "id": "3e79531d",
   "metadata": {},
   "outputs": [],
   "source": []
  }
 ],
 "metadata": {
  "kernelspec": {
   "display_name": "Python 3",
   "language": "python",
   "name": "python3"
  },
  "language_info": {
   "codemirror_mode": {
    "name": "ipython",
    "version": 3
   },
   "file_extension": ".py",
   "mimetype": "text/x-python",
   "name": "python",
   "nbconvert_exporter": "python",
   "pygments_lexer": "ipython3",
   "version": "3.8.8"
  }
 },
 "nbformat": 4,
 "nbformat_minor": 5
}
