{
 "cells": [
  {
   "cell_type": "code",
   "execution_count": 2,
   "id": "9206105c",
   "metadata": {},
   "outputs": [
    {
     "name": "stdout",
     "output_type": "stream",
     "text": [
      "Masukkan jumlah detik: 89000\n",
      "1.0300925925925926 hari  0.7222222222222222 jam  43.333333333333336 menit  20 detik\n"
     ]
    }
   ],
   "source": [
    "detik = 0\n",
    "menit = 0\n",
    "jam = 0\n",
    "hari = 0\n",
    "\n",
    "detik= int(input(\"Masukkan jumlah detik: \"))\n",
    "\n",
    "hari = detik/86400\n",
    "detik = detik%86400\n",
    "jam = detik/3600\n",
    "detik = detik%3600\n",
    "menit = detik/60\n",
    "detik = detik%60\n",
    "\n",
    "print(hari, \"hari \", jam, \"jam \", menit, \"menit \", detik, \"detik\")"
   ]
  },
  {
   "cell_type": "code",
   "execution_count": null,
   "id": "dac27c5f",
   "metadata": {},
   "outputs": [],
   "source": []
  }
 ],
 "metadata": {
  "kernelspec": {
   "display_name": "Python 3",
   "language": "python",
   "name": "python3"
  },
  "language_info": {
   "codemirror_mode": {
    "name": "ipython",
    "version": 3
   },
   "file_extension": ".py",
   "mimetype": "text/x-python",
   "name": "python",
   "nbconvert_exporter": "python",
   "pygments_lexer": "ipython3",
   "version": "3.8.8"
  }
 },
 "nbformat": 4,
 "nbformat_minor": 5
}
