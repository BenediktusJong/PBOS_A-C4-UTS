{
 "cells": [
  {
   "cell_type": "code",
   "execution_count": 2,
   "id": "ae9772b7",
   "metadata": {},
   "outputs": [
    {
     "name": "stdout",
     "output_type": "stream",
     "text": [
      "\n",
      "================================Curriculume Vitae===============================\n",
      "\n",
      "\n",
      "Nama:  BENEDIKTUS\n",
      "\n",
      "----Pendidikan-------------------------------------------------\n",
      "FORMAL:\n",
      "*  SDN 24 Singkawang, Kec. Singkawang Barat, Prov. Kalimantan Barat\n",
      "*  SMPN 07 Singkawang, Kec. Singkawang Selatan, Prov. Kalimantan Barat\n",
      "*  SMK Tsjafioeddin Singkawang, Kec. Singkawang Barat, Prov. Kalimantan Barat\n",
      "*  STMIK Pontianak, Kec. Pontianak Kota, Prov. Kalimantan Barat\n",
      "\n",
      "NON FORMAL:\n",
      "*  a\n",
      "\n",
      "----Organisasi/Ekstra Kurikuler--------------------------------\n",
      "*  a\n",
      "\n",
      "----Prestasi/Penghargaan-------------------------------------------\n",
      "*  a\n",
      "*  b\n",
      "================================================================================\n"
     ]
    }
   ],
   "source": [
    "nama = \"BENEDIKTUS\"\n",
    "sd = \"SDN 24 Singkawang, Kec. Singkawang Barat, Prov. Kalimantan Barat\"\n",
    "smp = \"SMPN 07 Singkawang, Kec. Singkawang Selatan, Prov. Kalimantan Barat\"\n",
    "smu = \"SMK Tsjafioeddin Singkawang, Kec. Singkawang Barat, Prov. Kalimantan Barat\"\n",
    "kuliah = \"STMIK Pontianak, Kec. Pontianak Kota, Prov. Kalimantan Barat\"\n",
    "nonformal = [\"a\", \"b\"]\n",
    "organisasi = [\"a\"]\n",
    "prestasi = [\"a\"]\n",
    "\n",
    "print('')\n",
    "print(\"================================Curriculume Vitae===============================\")\n",
    "print('')\n",
    "print('')\n",
    "print(\"Nama: \", nama)\n",
    "print('')\n",
    "print(\"----Pendidikan-------------------------------------------------\")\n",
    "print(\"FORMAL:\")\n",
    "print(\"* \", sd)\n",
    "print(\"* \", smp)\n",
    "print(\"* \", smu)\n",
    "print(\"* \", kuliah)\n",
    "print('')\n",
    "print(\"NON FORMAL:\")\n",
    "for i in nonformal:\n",
    "    print(\"* \", i)\n",
    "print('')\n",
    "print(\"----Organisasi/Ekstra Kurikuler--------------------------------\")\n",
    "for i in organisasi:\n",
    "    print(\"* \", i)\n",
    "print('')\n",
    "print(\"----Prestasi/Penghargaan-------------------------------------------\")\n",
    "for i in prestasi:\n",
    "    print(\"* \", i)\n",
    "print(\"================================================================================\")"
   ]
  },
  {
   "cell_type": "code",
   "execution_count": 4,
   "id": "63e00a82",
   "metadata": {},
   "outputs": [
    {
     "name": "stdout",
     "output_type": "stream",
     "text": [
      "=====Program menghitung luas persegi panjang=====\n",
      "\n",
      "Inputkan nilai panjang : 16\n",
      "Inputkan nilai lebar   : 10\n",
      "\n",
      "Luas dari persegi panjang adalah: 160 satuan luas\n",
      "\n",
      "=================================================\n"
     ]
    }
   ],
   "source": [
    "p: int\n",
    "l: int\n",
    "L: int\n",
    "\n",
    "print(\"=====Program menghitung luas persegi panjang=====\\n\")\n",
    "p= int(input(\"Inputkan nilai panjang : \"))\n",
    "l= int(input(\"Inputkan nilai lebar   : \"))\n",
    "\n",
    "L = p * l\n",
    "\n",
    "print(\"Luas dari persegi panjang adalah:\", L, \"satuan luas\")\n",
    "print(\"=================================================\")"
   ]
  },
  {
   "cell_type": "code",
   "execution_count": 8,
   "id": "2e848f62",
   "metadata": {},
   "outputs": [
    {
     "name": "stdout",
     "output_type": "stream",
     "text": [
      "====================Konversi Suhu====================\n",
      "1. Celcius\n",
      "2. Reamur\n",
      "3. Fahrenheit\n",
      "0. Keluar\n",
      "Pilih satuan suhu yang ingin dikonversi: 0\n",
      "Inputkan nilai suhu: \n"
     ]
    },
    {
     "ename": "ValueError",
     "evalue": "could not convert string to float: ''",
     "output_type": "error",
     "traceback": [
      "\u001b[1;31m---------------------------------------------------------------------------\u001b[0m",
      "\u001b[1;31mValueError\u001b[0m                                Traceback (most recent call last)",
      "\u001b[1;32m<ipython-input-8-c7970994093b>\u001b[0m in \u001b[0;36m<module>\u001b[1;34m\u001b[0m\n\u001b[0;32m     11\u001b[0m Pilih satuan suhu yang ingin dikonversi: \"\"\")\n\u001b[0;32m     12\u001b[0m \u001b[1;33m\u001b[0m\u001b[0m\n\u001b[1;32m---> 13\u001b[1;33m     \u001b[0msuhu\u001b[0m\u001b[1;33m=\u001b[0m \u001b[0mfloat\u001b[0m\u001b[1;33m(\u001b[0m\u001b[0minput\u001b[0m\u001b[1;33m(\u001b[0m\u001b[1;34m\"Inputkan nilai suhu: \"\u001b[0m\u001b[1;33m)\u001b[0m\u001b[1;33m)\u001b[0m\u001b[1;33m\u001b[0m\u001b[1;33m\u001b[0m\u001b[0m\n\u001b[0m\u001b[0;32m     14\u001b[0m \u001b[1;33m\u001b[0m\u001b[0m\n\u001b[0;32m     15\u001b[0m     \u001b[1;32mif\u001b[0m \u001b[1;33m(\u001b[0m\u001b[0mpilihKonversi\u001b[0m \u001b[1;33m==\u001b[0m \u001b[1;34m'1'\u001b[0m\u001b[1;33m)\u001b[0m\u001b[1;33m:\u001b[0m\u001b[1;33m\u001b[0m\u001b[1;33m\u001b[0m\u001b[0m\n",
      "\u001b[1;31mValueError\u001b[0m: could not convert string to float: ''"
     ]
    }
   ],
   "source": [
    "pilihKonversi = 1\n",
    "suhu: float\n",
    "\n",
    "while (pilihKonversi != '0'):\n",
    "    \n",
    "    print(\"====================Konversi Suhu====================\")\n",
    "    pilihKonversi= input(\"\"\"1. Celcius\n",
    "2. Reamur\n",
    "3. Fahrenheit\n",
    "0. Keluar\n",
    "Pilih satuan suhu yang ingin dikonversi: \"\"\")\n",
    "    \n",
    "    suhu= float(input(\"Inputkan nilai suhu: \"))\n",
    "\n",
    "    if (pilihKonversi == '1'):\n",
    "        print('')\n",
    "        print(\">\", suhu, \"Celcius adalah:\")\n",
    "        print(suhu * 0.8, \"Reamur\")\n",
    "        print(suhu * 1.8 + 32, \"Fahrenheit\")\n",
    "    elif (pilihKonversi == '2'):\n",
    "        print('')\n",
    "        print(\">\", suhu, \"Reamur adalah:\")\n",
    "        print(suhu / 0.8, \"Celcius\")\n",
    "        print(suhu * 2.25 + 32, \"Fahrenheit\")\n",
    "    elif (pilihKonversi == '3'):\n",
    "        print('')\n",
    "        print(\">\", suhu, \"Fahrenheit adalah:\")\n",
    "        print((suhu - 32) / 1.8, \"Celcius\")\n",
    "        print((suhu - 32) / 2.25, \"Reamur\")\n",
    "    print(\"=====================================================\")"
   ]
  },
  {
   "cell_type": "code",
   "execution_count": 3,
   "id": "50a34036",
   "metadata": {},
   "outputs": [
    {
     "name": "stdout",
     "output_type": "stream",
     "text": [
      "=========================Konversi Detik=========================\n",
      "Masukkan jumlah detik: 89000\n",
      "\n",
      "1.0 hari  0.0 jam  43.0 menit  20 detik\n",
      "================================================================\n"
     ]
    }
   ],
   "source": [
    "detik = 0\n",
    "menit = 0\n",
    "jam = 0\n",
    "hari = 0\n",
    "\n",
    "print(\"=========================Konversi Detik=========================\\n\")\n",
    "detik= int(input(\"Masukkan jumlah detik: \"))\n",
    "\n",
    "hari = (detik - detik%86400)/86400\n",
    "detik = detik%86400\n",
    "jam = (detik - detik%3600)/3600\n",
    "detik = detik%3600\n",
    "menit = (detik - detik%60)/60\n",
    "detik = detik%60\n",
    "\n",
    "print('')\n",
    "print(hari, \"hari \", jam, \"jam \", menit, \"menit \", detik, \"detik\")\n",
    "print(\"================================================================\")"
   ]
  },
  {
   "cell_type": "code",
   "execution_count": 5,
   "id": "e35edd7a",
   "metadata": {},
   "outputs": [
    {
     "name": "stdout",
     "output_type": "stream",
     "text": [
      "=====================================================\n",
      "\n",
      "Masukkan nilai jari-jari: 7\n",
      "Luas lingkaran adalah  154.0\n",
      "=====================================================\n"
     ]
    }
   ],
   "source": [
    "jaris: float\n",
    "\n",
    "print(\"=================Hitung Luas Lingkaran=================\\n\")\n",
    "jaris= float(input(\"Masukkan nilai jari-jari: \"))\n",
    "print(\"Luas lingkaran adalah \", 22/7 * jaris**2)\n",
    "print(\"=======================================================)"
   ]
  },
  {
   "cell_type": "code",
   "execution_count": null,
   "id": "cce32937",
   "metadata": {},
   "outputs": [],
   "source": []
  }
 ],
 "metadata": {
  "kernelspec": {
   "display_name": "Python 3",
   "language": "python",
   "name": "python3"
  },
  "language_info": {
   "codemirror_mode": {
    "name": "ipython",
    "version": 3
   },
   "file_extension": ".py",
   "mimetype": "text/x-python",
   "name": "python",
   "nbconvert_exporter": "python",
   "pygments_lexer": "ipython3",
   "version": "3.8.8"
  }
 },
 "nbformat": 4,
 "nbformat_minor": 5
}
