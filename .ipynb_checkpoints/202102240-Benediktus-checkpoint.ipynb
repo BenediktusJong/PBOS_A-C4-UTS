{
 "cells": [
  {
   "cell_type": "code",
   "execution_count": 2,
   "id": "ae9772b7",
   "metadata": {},
   "outputs": [
    {
     "name": "stdout",
     "output_type": "stream",
     "text": [
      "\n",
      "================================Curriculume Vitae===============================\n",
      "\n",
      "\n",
      "Nama:  BENEDIKTUS\n",
      "\n",
      "----Pendidikan-------------------------------------------------\n",
      "FORMAL:\n",
      "*  SDN 24 Singkawang, Kec. Singkawang Barat, Prov. Kalimantan Barat\n",
      "*  SMPN 07 Singkawang, Kec. Singkawang Selatan, Prov. Kalimantan Barat\n",
      "*  SMK Tsjafioeddin Singkawang, Kec. Singkawang Barat, Prov. Kalimantan Barat\n",
      "*  STMIK Pontianak, Kec. Pontianak Kota, Prov. Kalimantan Barat\n",
      "\n",
      "NON FORMAL:\n",
      "*  a\n",
      "\n",
      "----Organisasi/Ekstra Kurikuler--------------------------------\n",
      "*  a\n",
      "\n",
      "----Prestasi/Penghargaan-------------------------------------------\n",
      "*  a\n",
      "*  b\n",
      "================================================================================\n"
     ]
    }
   ],
   "source": [
    "nama = \"BENEDIKTUS\"\n",
    "sd = \"SDN 24 Singkawang, Kec. Singkawang Barat, Prov. Kalimantan Barat\"\n",
    "smp = \"SMPN 07 Singkawang, Kec. Singkawang Selatan, Prov. Kalimantan Barat\"\n",
    "smu = \"SMK Tsjafioeddin Singkawang, Kec. Singkawang Barat, Prov. Kalimantan Barat\"\n",
    "kuliah = \"STMIK Pontianak, Kec. Pontianak Kota, Prov. Kalimantan Barat\"\n",
    "nonformal = [\"a\", \"b\"]\n",
    "organisasi = [\"a\"]\n",
    "prestasi = [\"a\"]\n",
    "\n",
    "print('')\n",
    "print(\"================================Curriculume Vitae===============================\")\n",
    "print('')\n",
    "print('')\n",
    "print(\"Nama: \", nama)\n",
    "print('')\n",
    "print(\"----Pendidikan-------------------------------------------------\")\n",
    "print(\"FORMAL:\")\n",
    "print(\"* \", sd)\n",
    "print(\"* \", smp)\n",
    "print(\"* \", smu)\n",
    "print(\"* \", kuliah)\n",
    "print('')\n",
    "print(\"NON FORMAL:\")\n",
    "for i in nonformal:\n",
    "    print(\"* \", i)\n",
    "print('')\n",
    "print(\"----Organisasi/Ekstra Kurikuler--------------------------------\")\n",
    "for i in organisasi:\n",
    "    print(\"* \", i)\n",
    "print('')\n",
    "print(\"----Prestasi/Penghargaan-------------------------------------------\")\n",
    "for i in prestasi:\n",
    "    print(\"* \", i)\n",
    "print(\"================================================================================\")"
   ]
  },
  {
   "cell_type": "code",
   "execution_count": null,
   "id": "63e00a82",
   "metadata": {},
   "outputs": [],
   "source": [
    "p: int\n",
    "l: int\n",
    "L: int\n",
    "\n",
    "print(\"=====Program menghitung luas persegi panjang=====\\n\")\n",
    "p= int(input(\"Inputkan nilai panjang : \"))\n",
    "l= int(input(\"Inputkan nilai lebar   : \"))\n",
    "\n",
    "L = p * l\n",
    "\n",
    "print(\"\\nLuas dari persegi panjang adalah:\", L, \"satuan luas\\n\")\n",
    "print(\"=================================================\")"
   ]
  },
  {
   "cell_type": "code",
   "execution_count": null,
   "id": "2e848f62",
   "metadata": {},
   "outputs": [],
   "source": [
    "pilihKonversi = '1'\n",
    "suhu: float\n",
    "\n",
    "while (pilihKonversi != '0'):\n",
    "    \n",
    "    print(\"=================================================\")\n",
    "    pilihKonversi= input(\"\"\"1. Celcius\n",
    "2. Reamur\n",
    "3. Fahrenheit\n",
    "0. Keluar\n",
    "Pilih satuan suhu yang ingin dikonversi: \"\"\")\n",
    "    \n",
    "    suhu= float(input(\"Inputkan nilai suhu: \"))\n",
    "\n",
    "    if (pilihKonversi == '1'):\n",
    "        print('')\n",
    "        print(\">\", suhu, \"Celcius adalah:\")\n",
    "        print(suhu * 0.8, \"Reamur\")\n",
    "        print(suhu * 1.8 + 32, \"Fahrenheit\")\n",
    "    elif (pilihKonversi == '2'):\n",
    "        print('')\n",
    "        print(\">\", suhu, \"Reamur adalah:\")\n",
    "        print(suhu / 0.8, \"Celcius\")\n",
    "        print(suhu * 2.25 + 32, \"Fahrenheit\")\n",
    "    elif (pilihKonversi == '3'):\n",
    "        print('')\n",
    "        print(\">\", suhu, \"Fahrenheit adalah:\")\n",
    "        print((suhu - 32) / 1.8, \"Celcius\")\n",
    "        print((suhu - 32) / 2.25, \"Reamur\")\n",
    "    print(\"=================================================\")"
   ]
  },
  {
   "cell_type": "code",
   "execution_count": null,
   "id": "50a34036",
   "metadata": {},
   "outputs": [],
   "source": [
    "detik = 0\n",
    "menit = 0\n",
    "jam = 0\n",
    "hari = 0\n",
    "\n",
    "detik= int(input(\"Masukkan jumlah detik: \"))\n",
    "\n",
    "hari = detik/86400\n",
    "detik = detik%86400\n",
    "jam = detik/3600\n",
    "detik = detik%3600\n",
    "menit = detik/60\n",
    "detik = detik%60\n",
    "\n",
    "print(hari, \"hari \", jam, \"jam \", menit, \"menit \", detik, \"detik\")"
   ]
  },
  {
   "cell_type": "code",
   "execution_count": null,
   "id": "e35edd7a",
   "metadata": {},
   "outputs": [],
   "source": [
    "jaris: float\n",
    "\n",
    "jaris= float(input(\"Masukkan nilai jari-jari: \"))\n",
    "print(\"Luas lingkaran adalah \", 22/7 * jaris**2)"
   ]
  }
 ],
 "metadata": {
  "kernelspec": {
   "display_name": "Python 3",
   "language": "python",
   "name": "python3"
  },
  "language_info": {
   "codemirror_mode": {
    "name": "ipython",
    "version": 3
   },
   "file_extension": ".py",
   "mimetype": "text/x-python",
   "name": "python",
   "nbconvert_exporter": "python",
   "pygments_lexer": "ipython3",
   "version": "3.8.8"
  }
 },
 "nbformat": 4,
 "nbformat_minor": 5
}
