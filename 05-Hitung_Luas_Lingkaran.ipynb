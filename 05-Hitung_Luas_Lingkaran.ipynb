{
 "cells": [
  {
   "cell_type": "code",
   "execution_count": 5,
   "id": "3c98f19e",
   "metadata": {},
   "outputs": [
    {
     "name": "stdout",
     "output_type": "stream",
     "text": [
      "Masukkan nilai jari-jari: 8\n",
      "Luas lingkaran adalah  201.14285714285714\n"
     ]
    }
   ],
   "source": [
    "jaris: float\n",
    "\n",
    "jaris= float(input(\"Masukkan nilai jari-jari: \"))\n",
    "print(\"Luas lingkaran adalah \", 22/7 * jaris**2)"
   ]
  },
  {
   "cell_type": "code",
   "execution_count": null,
   "id": "f687887e",
   "metadata": {},
   "outputs": [],
   "source": []
  }
 ],
 "metadata": {
  "kernelspec": {
   "display_name": "Python 3",
   "language": "python",
   "name": "python3"
  },
  "language_info": {
   "codemirror_mode": {
    "name": "ipython",
    "version": 3
   },
   "file_extension": ".py",
   "mimetype": "text/x-python",
   "name": "python",
   "nbconvert_exporter": "python",
   "pygments_lexer": "ipython3",
   "version": "3.8.8"
  }
 },
 "nbformat": 4,
 "nbformat_minor": 5
}
