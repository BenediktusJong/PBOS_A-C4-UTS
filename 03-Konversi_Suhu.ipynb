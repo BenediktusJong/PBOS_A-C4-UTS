{
 "cells": [
  {
   "cell_type": "code",
   "execution_count": 2,
   "id": "05242e6e",
   "metadata": {},
   "outputs": [
    {
     "name": "stdout",
     "output_type": "stream",
     "text": [
      "=================================================\n",
      "1. Celcius\n",
      "2. Reamur\n",
      "3. Fahrenheit\n",
      "0. Keluar\n",
      "Pilih satuan suhu yang ingin dikonversi: 1\n",
      "Inputkan nilai suhu: 26\n",
      "\n",
      "> 26.0 Celcius adalah:\n",
      "20.8  Reamur\n",
      "78.80000000000001  Fahrenheit\n",
      "=================================================\n",
      "=================================================\n",
      "1. Celcius\n",
      "2. Reamur\n",
      "3. Fahrenheit\n",
      "0. Keluar\n",
      "Pilih satuan suhu yang ingin dikonversi: 3\n",
      "Inputkan nilai suhu: 76\n",
      "\n",
      "> 76.0 Fahrenheit adalah:\n",
      "24.444444444444443  Celcius\n",
      "19.555555555555557  Reamur\n",
      "=================================================\n",
      "=================================================\n",
      "1. Celcius\n",
      "2. Reamur\n",
      "3. Fahrenheit\n",
      "0. Keluar\n",
      "Pilih satuan suhu yang ingin dikonversi: 0\n",
      "Inputkan nilai suhu: 0\n",
      "=================================================\n"
     ]
    }
   ],
   "source": [
    "pilihKonversi = '1'\n",
    "suhu: float\n",
    "\n",
    "while (pilihKonversi != '0'):\n",
    "    \n",
    "    print(\"=================================================\")\n",
    "    pilihKonversi= input(\"\"\"1. Celcius\n",
    "2. Reamur\n",
    "3. Fahrenheit\n",
    "0. Keluar\n",
    "Pilih satuan suhu yang ingin dikonversi: \"\"\")\n",
    "    \n",
    "    suhu= float(input(\"Inputkan nilai suhu: \"))\n",
    "\n",
    "    if (pilihKonversi == '1'):\n",
    "        print('')\n",
    "        print(\">\", suhu, \"Celcius adalah:\")\n",
    "        print(suhu * 0.8, \"Reamur\")\n",
    "        print(suhu * 1.8 + 32, \"Fahrenheit\")\n",
    "    elif (pilihKonversi == '2'):\n",
    "        print('')\n",
    "        print(\">\", suhu, \"Reamur adalah:\")\n",
    "        print(suhu / 0.8, \"Celcius\")\n",
    "        print(suhu * 2.25 + 32, \"Fahrenheit\")\n",
    "    elif (pilihKonversi == '3'):\n",
    "        print('')\n",
    "        print(\">\", suhu, \"Fahrenheit adalah:\")\n",
    "        print((suhu - 32) / 1.8, \"Celcius\")\n",
    "        print((suhu - 32) / 2.25, \"Reamur\")\n",
    "    print(\"=================================================\")"
   ]
  },
  {
   "cell_type": "code",
   "execution_count": null,
   "id": "26282ae3",
   "metadata": {},
   "outputs": [],
   "source": []
  }
 ],
 "metadata": {
  "kernelspec": {
   "display_name": "Python 3",
   "language": "python",
   "name": "python3"
  }
 },
 "nbformat": 4,
 "nbformat_minor": 5
}
